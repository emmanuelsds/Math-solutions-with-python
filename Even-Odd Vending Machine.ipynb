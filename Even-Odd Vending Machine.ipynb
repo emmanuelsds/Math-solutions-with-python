{
 "cells": [
  {
   "cell_type": "code",
   "execution_count": 39,
   "metadata": {},
   "outputs": [],
   "source": [
    "# Importing required libraries\n",
    "from IPython.display import display, HTML"
   ]
  },
  {
   "cell_type": "code",
   "execution_count": 40,
   "metadata": {},
   "outputs": [],
   "source": [
    "def print_even_or_odd(number):\n",
    "    \"\"\"\n",
    "    This function takes a number as input and performs two actions:\n",
    "    1. Prints whether the number is even or odd.\n",
    "    2. Displays the number followed by the next 9 even or odd numbers.\n",
    "    If the input number has significant digits beyond the decimal point,\n",
    "    it displays an error message.\n",
    "    \"\"\"\n",
    "   # Step 1: Check if the input is a whole number\n",
    "    if not float(number).is_integer():\n",
    "        display(HTML(\"<b>Error:</b> Please enter a whole number.\"))\n",
    "        return\n",
    "    # Step 2: Convert the input to an integer\n",
    "    number = int(number)"
   ]
  },
  {
   "cell_type": "code",
   "execution_count": 41,
   "metadata": {},
   "outputs": [
    {
     "name": "stdout",
     "output_type": "stream",
     "text": [
      "Please enter a valid natural number.\n"
     ]
    }
   ],
   "source": [
    "#Step 3: Let the user insert a number (only natural numbers)\n",
    "try:\n",
    "    user_input = input(\"Please enter a number: \")\n",
    "    \n",
    "    # Check if the input is a positive integer\n",
    "    if user_input.isdigit():\n",
    "        number = int(user_input)\n",
    "    else:\n",
    "        raise ValueError  # This will trigger the except block\n",
    "    \n",
    "except ValueError:\n",
    "    print(\"Please enter a valid natural number.\")\n"
   ]
  },
  {
   "cell_type": "code",
   "execution_count": 38,
   "metadata": {},
   "outputs": [
    {
     "data": {
      "text/html": [
       "<b>Odd</b>"
      ],
      "text/plain": [
       "<IPython.core.display.HTML object>"
      ]
     },
     "metadata": {},
     "output_type": "display_data"
    },
    {
     "data": {
      "text/html": [
       "7, 9, 11, 13, 15, 17, 19, 21, 23"
      ],
      "text/plain": [
       "<IPython.core.display.HTML object>"
      ]
     },
     "metadata": {},
     "output_type": "display_data"
    }
   ],
   "source": [
    "# Step 3: Check if the number is even or odd and print the result\n",
    "if number % 2 == 0:\n",
    "    display(HTML(\"<b>Even</b>\"))\n",
    "    # Step 4: Generate the next 9 even numbers\n",
    "    next_numbers = list(range(number, number + 18, 2))\n",
    "else:\n",
    "    display(HTML(\"<b>Odd</b>\"))\n",
    "    # Step 5: Generate the next 9 odd numbers\n",
    "    next_numbers = list(range(number, number + 18, 2))\n",
    "\n",
    "# Step 6: Display the result\n",
    "display(HTML(\", \".join(map(str, next_numbers))))"
   ]
  }
 ],
 "metadata": {
  "kernelspec": {
   "display_name": "Python 3",
   "language": "python",
   "name": "python3"
  },
  "language_info": {
   "codemirror_mode": {
    "name": "ipython",
    "version": 3
   },
   "file_extension": ".py",
   "mimetype": "text/x-python",
   "name": "python",
   "nbconvert_exporter": "python",
   "pygments_lexer": "ipython3",
   "version": "3.11.4"
  }
 },
 "nbformat": 4,
 "nbformat_minor": 2
}
