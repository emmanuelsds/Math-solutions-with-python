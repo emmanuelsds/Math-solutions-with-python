{
 "cells": [
  {
   "cell_type": "code",
   "execution_count": 1,
   "metadata": {},
   "outputs": [],
   "source": [
    "#Import libraries\n",
    "\n",
    "from fractions import Fraction"
   ]
  },
  {
   "cell_type": "code",
   "execution_count": 2,
   "metadata": {},
   "outputs": [],
   "source": [
    "#Define the calculator functions\n",
    "\n",
    "def add_fractions(frac1, frac2):\n",
    "    return frac1 + frac2\n",
    "\n",
    "def subtract_fractions(frac1, frac2):\n",
    "    return frac1 - frac2\n",
    "\n",
    "def multiply_fractions(frac1, frac2):\n",
    "    return frac1 * frac2\n",
    "\n",
    "def divide_fractions(frac1, frac2):\n",
    "    if frac2 == 0:\n",
    "        raise ValueError(\"Cannot divide by zero fraction.\")\n",
    "    return frac1 / frac2"
   ]
  },
  {
   "cell_type": "code",
   "execution_count": 4,
   "metadata": {},
   "outputs": [
    {
     "name": "stdout",
     "output_type": "stream",
     "text": [
      "\n",
      "Choose the operation:\n",
      "1. Addition (+)\n",
      "2. Subtraction (-)\n",
      "3. Multiplication (x)\n",
      "4. Division (/)\n"
     ]
    }
   ],
   "source": [
    "#Let the user to decide the opperation\n",
    "\n",
    "# Input for the first fraction\n",
    "numerator1 = int(input(\"Enter the numerator for the first fraction: \"))\n",
    "denominator1 = int(input(\"Enter the denominator for the first fraction: \"))\n",
    "fraction1 = Fraction(numerator1, denominator1)\n",
    "\n",
    "# Input for the second fraction\n",
    "numerator2 = int(input(\"Enter the numerator for the second fraction: \"))\n",
    "denominator2 = int(input(\"Enter the denominator for the second fraction: \"))\n",
    "fraction2 = Fraction(numerator2, denominator2)\n",
    "\n",
    "# Choose the operation\n",
    "print(\"\\nChoose the operation:\")\n",
    "print(\"1. Addition (+)\")\n",
    "print(\"2. Subtraction (-)\")\n",
    "print(\"3. Multiplication (x)\")\n",
    "print(\"4. Division (/)\")\n",
    "\n",
    "operation = input(\"\\nEnter the operation (symbols or numbers): \")"
   ]
  },
  {
   "cell_type": "code",
   "execution_count": 5,
   "metadata": {},
   "outputs": [
    {
     "name": "stdout",
     "output_type": "stream",
     "text": [
      "\n",
      "The result of the operation is: 1/3\n"
     ]
    }
   ],
   "source": [
    "#Perform the calculator\n",
    "\n",
    "if operation in [\"1\", \"+\"]:\n",
    "    result = add_fractions(fraction1, fraction2)\n",
    "elif operation in [\"2\", \"-\"]:\n",
    "    result = subtract_fractions(fraction1, fraction2)\n",
    "elif operation in [\"3\", \"x\"]:\n",
    "    result = multiply_fractions(fraction1, fraction2)\n",
    "elif operation in [\"4\", \"/\"]:\n",
    "    result = divide_fractions(fraction1, fraction2)\n",
    "else:\n",
    "    raise ValueError(\"Invalid operation selected.\")\n",
    "\n",
    "print(f\"\\nThe result of the operation is: {result}\")"
   ]
  }
 ],
 "metadata": {
  "kernelspec": {
   "display_name": "Python 3",
   "language": "python",
   "name": "python3"
  },
  "language_info": {
   "codemirror_mode": {
    "name": "ipython",
    "version": 3
   },
   "file_extension": ".py",
   "mimetype": "text/x-python",
   "name": "python",
   "nbconvert_exporter": "python",
   "pygments_lexer": "ipython3",
   "version": "3.11.4"
  }
 },
 "nbformat": 4,
 "nbformat_minor": 2
}
