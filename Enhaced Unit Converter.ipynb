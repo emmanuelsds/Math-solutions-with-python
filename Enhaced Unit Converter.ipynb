{
 "cells": [
  {
   "cell_type": "code",
   "execution_count": 1,
   "metadata": {},
   "outputs": [],
   "source": [
    "#Function Definitions  // values to convert\n",
    "\n",
    "def kg_to_lbs(kg):\n",
    "    return kg * 2.20462\n",
    "\n",
    "def lbs_to_kg(lbs):\n",
    "    return lbs / 2.20462\n",
    "\n",
    "def celsius_to_fahrenheit(celsius):\n",
    "    return (celsius * 9/5) + 32\n",
    "\n",
    "def fahrenheit_to_celsius(fahrenheit):\n",
    "    return (fahrenheit - 32) * 5/9"
   ]
  },
  {
   "cell_type": "code",
   "execution_count": 3,
   "metadata": {},
   "outputs": [
    {
     "name": "stdout",
     "output_type": "stream",
     "text": [
      "Choose a conversion type:\n",
      "1. Mass\n",
      "2. Temperature\n",
      "\n",
      "Choose a mass conversion:\n",
      "1. Kilograms to Pounds\n",
      "2. Pounds to Kilograms\n"
     ]
    }
   ],
   "source": [
    "#Choosing the unit to convert (mass or temperature)\n",
    "\n",
    "print(\"Choose a conversion type:\\n1. Mass\\n2. Temperature\")\n",
    "conversion_type = int(input(\"Enter 1 for Mass or 2 for Temperature: \"))\n",
    "\n",
    "if conversion_type == 1:\n",
    "    print(\"\\nChoose a mass conversion:\\n1. Kilograms to Pounds\\n2. Pounds to Kilograms\")\n",
    "    mass_conversion = int(input(\"Enter your choice (1 or 2): \"))\n",
    "elif conversion_type == 2:\n",
    "    print(\"\\nChoose a temperature conversion:\\n1. Celsius to Fahrenheit\\n2. Fahrenheit to Celsius\")\n",
    "    temp_conversion = int(input(\"Enter your choice (1 or 2): \"))\n",
    "else:\n",
    "    raise ValueError(\"Invalid selection.\")"
   ]
  },
  {
   "cell_type": "code",
   "execution_count": 4,
   "metadata": {},
   "outputs": [
    {
     "name": "stdout",
     "output_type": "stream",
     "text": [
      "\n",
      "37.0 pounds is equal to 16.782937649118672 kilograms.\n"
     ]
    }
   ],
   "source": [
    "#Conversion\n",
    "\n",
    "if conversion_type == 1:\n",
    "    if mass_conversion == 1:\n",
    "        kg_value = float(input(\"\\nEnter the weight in kilograms: \"))\n",
    "        print(f\"\\n{kg_value} kilograms is equal to {kg_to_lbs(kg_value)} pounds.\")\n",
    "    elif mass_conversion == 2:\n",
    "        lbs_value = float(input(\"\\nEnter the weight in pounds: \"))\n",
    "        print(f\"\\n{lbs_value} pounds is equal to {lbs_to_kg(lbs_value)} kilograms.\")\n",
    "    else:\n",
    "        raise ValueError(\"Invalid mass conversion selection.\")\n",
    "\n",
    "elif conversion_type == 2:\n",
    "    if temp_conversion == 1:\n",
    "        celsius_value = float(input(\"\\nEnter the temperature in Celsius: \"))\n",
    "        print(f\"\\n{celsius_value}°C is equal to {celsius_to_fahrenheit(celsius_value)}°F.\")\n",
    "    elif temp_conversion == 2:\n",
    "        fahrenheit_value = float(input(\"\\nEnter the temperature in Fahrenheit: \"))\n",
    "        print(f\"\\n{fahrenheit_value}°F is equal to {fahrenheit_to_celsius(fahrenheit_value)}°C.\")\n",
    "    else:\n",
    "        raise ValueError(\"Invalid temperature conversion selection.\")\n"
   ]
  }
 ],
 "metadata": {
  "kernelspec": {
   "display_name": "Python 3",
   "language": "python",
   "name": "python3"
  },
  "language_info": {
   "codemirror_mode": {
    "name": "ipython",
    "version": 3
   },
   "file_extension": ".py",
   "mimetype": "text/x-python",
   "name": "python",
   "nbconvert_exporter": "python",
   "pygments_lexer": "ipython3",
   "version": "3.11.4"
  }
 },
 "nbformat": 4,
 "nbformat_minor": 2
}
