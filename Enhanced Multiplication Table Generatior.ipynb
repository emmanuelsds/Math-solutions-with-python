{
 "cells": [
  {
   "cell_type": "code",
   "execution_count": 11,
   "metadata": {},
   "outputs": [],
   "source": [
    "def generate_multiplication_table(number, multiples):\n",
    "    for i in range(1, multiples + 1):\n",
    "        print(f\"{number} x {i} = {number * i}\")"
   ]
  },
  {
   "cell_type": "code",
   "execution_count": 12,
   "metadata": {},
   "outputs": [],
   "source": [
    "# Get the number for which the multiplication table is needed\n",
    "num = int(input(\"Enter the number for which you want the multiplication table: \"))\n",
    "\n",
    "# Get the number of multiples the user wants to see\n",
    "upto = int(input(\"Up to which multiple do you want to see? \"))\n"
   ]
  },
  {
   "cell_type": "code",
   "execution_count": 13,
   "metadata": {},
   "outputs": [],
   "source": [
    "if num < 0 or upto < 0:\n",
    "    raise ValueError(\"Please enter a valid positive integer.\")\n"
   ]
  },
  {
   "cell_type": "code",
   "execution_count": 14,
   "metadata": {},
   "outputs": [
    {
     "name": "stdout",
     "output_type": "stream",
     "text": [
      "7 x 1 = 7\n",
      "7 x 2 = 14\n",
      "7 x 3 = 21\n",
      "7 x 4 = 28\n",
      "7 x 5 = 35\n",
      "7 x 6 = 42\n",
      "7 x 7 = 49\n",
      "7 x 8 = 56\n",
      "7 x 9 = 63\n",
      "7 x 10 = 70\n",
      "7 x 11 = 77\n",
      "7 x 12 = 84\n",
      "7 x 13 = 91\n",
      "7 x 14 = 98\n",
      "7 x 15 = 105\n",
      "7 x 16 = 112\n",
      "7 x 17 = 119\n",
      "7 x 18 = 126\n",
      "7 x 19 = 133\n",
      "7 x 20 = 140\n",
      "7 x 21 = 147\n",
      "7 x 22 = 154\n"
     ]
    }
   ],
   "source": [
    "generate_multiplication_table(num, upto)\n"
   ]
  }
 ],
 "metadata": {
  "kernelspec": {
   "display_name": "Python 3",
   "language": "python",
   "name": "python3"
  },
  "language_info": {
   "codemirror_mode": {
    "name": "ipython",
    "version": 3
   },
   "file_extension": ".py",
   "mimetype": "text/x-python",
   "name": "python",
   "nbconvert_exporter": "python",
   "pygments_lexer": "ipython3",
   "version": "3.11.4"
  }
 },
 "nbformat": 4,
 "nbformat_minor": 2
}
